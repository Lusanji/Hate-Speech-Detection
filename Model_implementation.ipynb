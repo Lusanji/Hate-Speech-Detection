{
  "cells": [
    {
      "cell_type": "markdown",
      "metadata": {
        "id": "UJT5Y7n-b0Ge"
      },
      "source": [
        "#Others"
      ]
    },
    {
      "cell_type": "code",
      "execution_count": null,
      "metadata": {
        "colab": {
          "base_uri": "https://localhost:8080/",
          "height": 300
        },
        "id": "OnpXINPRKjjj",
        "outputId": "6a7d4552-670f-41fd-ca61-b5739c8b58a9"
      },
      "outputs": [
        {
          "output_type": "execute_result",
          "data": {
            "text/plain": [
              "  filename    spec_cent  Spec_rolloff  Chroma_d      rmse       zcr  \\\n",
              "0   13.wav  2186.712460   4415.374959  0.351923  0.041191  0.108183   \n",
              "1   14.wav  1482.859986   2721.701598  0.300136  0.171379  0.069755   \n",
              "2   20.wav  2066.626278   4047.230022  0.348844  0.147516  0.099057   \n",
              "3   26.wav  2491.817423   5047.250730  0.347636  0.078662  0.117275   \n",
              "4   17.wav  1982.613202   3834.886811  0.358997  0.120765  0.098587   \n",
              "\n",
              "       Pitch     Tempo        Mean         Std  ...  delta2_mfcc12  \\\n",
              "0  26.255297  0.208744  249.974396  269.009599  ...       0.000233   \n",
              "1  15.603372  0.139794  288.041801  212.199902  ...       0.000296   \n",
              "2  31.641932  0.150048  246.595777  252.235972  ...       0.000891   \n",
              "3  25.690022  0.169977  249.721512  270.394273  ...       0.000047   \n",
              "4  35.350578  0.165198  243.879264  252.813489  ...      -0.000456   \n",
              "\n",
              "   delta2_mfcc13  delta2_mfcc14  delta2_mfcc15  delta2_mfcc16  delta2_mfcc17  \\\n",
              "0       0.000665       0.000885      -0.000137       0.000068       0.000944   \n",
              "1      -0.000479       0.000128       0.000925       0.000077       0.000360   \n",
              "2      -0.001316       0.000256       0.000043      -0.000823      -0.000310   \n",
              "3       0.000215      -0.000204       0.000284      -0.000033      -0.000300   \n",
              "4       0.000650       0.000584      -0.000102       0.000116      -0.000046   \n",
              "\n",
              "   delta2_mfcc18  delta2_mfcc19  delta2_mfcc20  label  \n",
              "0       0.000328       0.000646      -0.000231   Hate  \n",
              "1       0.000892      -0.000058       0.000017   Hate  \n",
              "2      -0.000517       0.000617       0.000145   Hate  \n",
              "3       0.000139      -0.000078      -0.000443   Hate  \n",
              "4       0.000161       0.000056      -0.000076   Hate  \n",
              "\n",
              "[5 rows x 74 columns]"
            ],
            "text/html": [
              "\n",
              "  <div id=\"df-36878724-686f-4bb1-8194-87c4473081ce\">\n",
              "    <div class=\"colab-df-container\">\n",
              "      <div>\n",
              "<style scoped>\n",
              "    .dataframe tbody tr th:only-of-type {\n",
              "        vertical-align: middle;\n",
              "    }\n",
              "\n",
              "    .dataframe tbody tr th {\n",
              "        vertical-align: top;\n",
              "    }\n",
              "\n",
              "    .dataframe thead th {\n",
              "        text-align: right;\n",
              "    }\n",
              "</style>\n",
              "<table border=\"1\" class=\"dataframe\">\n",
              "  <thead>\n",
              "    <tr style=\"text-align: right;\">\n",
              "      <th></th>\n",
              "      <th>filename</th>\n",
              "      <th>spec_cent</th>\n",
              "      <th>Spec_rolloff</th>\n",
              "      <th>Chroma_d</th>\n",
              "      <th>rmse</th>\n",
              "      <th>zcr</th>\n",
              "      <th>Pitch</th>\n",
              "      <th>Tempo</th>\n",
              "      <th>Mean</th>\n",
              "      <th>Std</th>\n",
              "      <th>...</th>\n",
              "      <th>delta2_mfcc12</th>\n",
              "      <th>delta2_mfcc13</th>\n",
              "      <th>delta2_mfcc14</th>\n",
              "      <th>delta2_mfcc15</th>\n",
              "      <th>delta2_mfcc16</th>\n",
              "      <th>delta2_mfcc17</th>\n",
              "      <th>delta2_mfcc18</th>\n",
              "      <th>delta2_mfcc19</th>\n",
              "      <th>delta2_mfcc20</th>\n",
              "      <th>label</th>\n",
              "    </tr>\n",
              "  </thead>\n",
              "  <tbody>\n",
              "    <tr>\n",
              "      <th>0</th>\n",
              "      <td>13.wav</td>\n",
              "      <td>2186.712460</td>\n",
              "      <td>4415.374959</td>\n",
              "      <td>0.351923</td>\n",
              "      <td>0.041191</td>\n",
              "      <td>0.108183</td>\n",
              "      <td>26.255297</td>\n",
              "      <td>0.208744</td>\n",
              "      <td>249.974396</td>\n",
              "      <td>269.009599</td>\n",
              "      <td>...</td>\n",
              "      <td>0.000233</td>\n",
              "      <td>0.000665</td>\n",
              "      <td>0.000885</td>\n",
              "      <td>-0.000137</td>\n",
              "      <td>0.000068</td>\n",
              "      <td>0.000944</td>\n",
              "      <td>0.000328</td>\n",
              "      <td>0.000646</td>\n",
              "      <td>-0.000231</td>\n",
              "      <td>Hate</td>\n",
              "    </tr>\n",
              "    <tr>\n",
              "      <th>1</th>\n",
              "      <td>14.wav</td>\n",
              "      <td>1482.859986</td>\n",
              "      <td>2721.701598</td>\n",
              "      <td>0.300136</td>\n",
              "      <td>0.171379</td>\n",
              "      <td>0.069755</td>\n",
              "      <td>15.603372</td>\n",
              "      <td>0.139794</td>\n",
              "      <td>288.041801</td>\n",
              "      <td>212.199902</td>\n",
              "      <td>...</td>\n",
              "      <td>0.000296</td>\n",
              "      <td>-0.000479</td>\n",
              "      <td>0.000128</td>\n",
              "      <td>0.000925</td>\n",
              "      <td>0.000077</td>\n",
              "      <td>0.000360</td>\n",
              "      <td>0.000892</td>\n",
              "      <td>-0.000058</td>\n",
              "      <td>0.000017</td>\n",
              "      <td>Hate</td>\n",
              "    </tr>\n",
              "    <tr>\n",
              "      <th>2</th>\n",
              "      <td>20.wav</td>\n",
              "      <td>2066.626278</td>\n",
              "      <td>4047.230022</td>\n",
              "      <td>0.348844</td>\n",
              "      <td>0.147516</td>\n",
              "      <td>0.099057</td>\n",
              "      <td>31.641932</td>\n",
              "      <td>0.150048</td>\n",
              "      <td>246.595777</td>\n",
              "      <td>252.235972</td>\n",
              "      <td>...</td>\n",
              "      <td>0.000891</td>\n",
              "      <td>-0.001316</td>\n",
              "      <td>0.000256</td>\n",
              "      <td>0.000043</td>\n",
              "      <td>-0.000823</td>\n",
              "      <td>-0.000310</td>\n",
              "      <td>-0.000517</td>\n",
              "      <td>0.000617</td>\n",
              "      <td>0.000145</td>\n",
              "      <td>Hate</td>\n",
              "    </tr>\n",
              "    <tr>\n",
              "      <th>3</th>\n",
              "      <td>26.wav</td>\n",
              "      <td>2491.817423</td>\n",
              "      <td>5047.250730</td>\n",
              "      <td>0.347636</td>\n",
              "      <td>0.078662</td>\n",
              "      <td>0.117275</td>\n",
              "      <td>25.690022</td>\n",
              "      <td>0.169977</td>\n",
              "      <td>249.721512</td>\n",
              "      <td>270.394273</td>\n",
              "      <td>...</td>\n",
              "      <td>0.000047</td>\n",
              "      <td>0.000215</td>\n",
              "      <td>-0.000204</td>\n",
              "      <td>0.000284</td>\n",
              "      <td>-0.000033</td>\n",
              "      <td>-0.000300</td>\n",
              "      <td>0.000139</td>\n",
              "      <td>-0.000078</td>\n",
              "      <td>-0.000443</td>\n",
              "      <td>Hate</td>\n",
              "    </tr>\n",
              "    <tr>\n",
              "      <th>4</th>\n",
              "      <td>17.wav</td>\n",
              "      <td>1982.613202</td>\n",
              "      <td>3834.886811</td>\n",
              "      <td>0.358997</td>\n",
              "      <td>0.120765</td>\n",
              "      <td>0.098587</td>\n",
              "      <td>35.350578</td>\n",
              "      <td>0.165198</td>\n",
              "      <td>243.879264</td>\n",
              "      <td>252.813489</td>\n",
              "      <td>...</td>\n",
              "      <td>-0.000456</td>\n",
              "      <td>0.000650</td>\n",
              "      <td>0.000584</td>\n",
              "      <td>-0.000102</td>\n",
              "      <td>0.000116</td>\n",
              "      <td>-0.000046</td>\n",
              "      <td>0.000161</td>\n",
              "      <td>0.000056</td>\n",
              "      <td>-0.000076</td>\n",
              "      <td>Hate</td>\n",
              "    </tr>\n",
              "  </tbody>\n",
              "</table>\n",
              "<p>5 rows × 74 columns</p>\n",
              "</div>\n",
              "      <button class=\"colab-df-convert\" onclick=\"convertToInteractive('df-36878724-686f-4bb1-8194-87c4473081ce')\"\n",
              "              title=\"Convert this dataframe to an interactive table.\"\n",
              "              style=\"display:none;\">\n",
              "        \n",
              "  <svg xmlns=\"http://www.w3.org/2000/svg\" height=\"24px\"viewBox=\"0 0 24 24\"\n",
              "       width=\"24px\">\n",
              "    <path d=\"M0 0h24v24H0V0z\" fill=\"none\"/>\n",
              "    <path d=\"M18.56 5.44l.94 2.06.94-2.06 2.06-.94-2.06-.94-.94-2.06-.94 2.06-2.06.94zm-11 1L8.5 8.5l.94-2.06 2.06-.94-2.06-.94L8.5 2.5l-.94 2.06-2.06.94zm10 10l.94 2.06.94-2.06 2.06-.94-2.06-.94-.94-2.06-.94 2.06-2.06.94z\"/><path d=\"M17.41 7.96l-1.37-1.37c-.4-.4-.92-.59-1.43-.59-.52 0-1.04.2-1.43.59L10.3 9.45l-7.72 7.72c-.78.78-.78 2.05 0 2.83L4 21.41c.39.39.9.59 1.41.59.51 0 1.02-.2 1.41-.59l7.78-7.78 2.81-2.81c.8-.78.8-2.07 0-2.86zM5.41 20L4 18.59l7.72-7.72 1.47 1.35L5.41 20z\"/>\n",
              "  </svg>\n",
              "      </button>\n",
              "      \n",
              "  <style>\n",
              "    .colab-df-container {\n",
              "      display:flex;\n",
              "      flex-wrap:wrap;\n",
              "      gap: 12px;\n",
              "    }\n",
              "\n",
              "    .colab-df-convert {\n",
              "      background-color: #E8F0FE;\n",
              "      border: none;\n",
              "      border-radius: 50%;\n",
              "      cursor: pointer;\n",
              "      display: none;\n",
              "      fill: #1967D2;\n",
              "      height: 32px;\n",
              "      padding: 0 0 0 0;\n",
              "      width: 32px;\n",
              "    }\n",
              "\n",
              "    .colab-df-convert:hover {\n",
              "      background-color: #E2EBFA;\n",
              "      box-shadow: 0px 1px 2px rgba(60, 64, 67, 0.3), 0px 1px 3px 1px rgba(60, 64, 67, 0.15);\n",
              "      fill: #174EA6;\n",
              "    }\n",
              "\n",
              "    [theme=dark] .colab-df-convert {\n",
              "      background-color: #3B4455;\n",
              "      fill: #D2E3FC;\n",
              "    }\n",
              "\n",
              "    [theme=dark] .colab-df-convert:hover {\n",
              "      background-color: #434B5C;\n",
              "      box-shadow: 0px 1px 3px 1px rgba(0, 0, 0, 0.15);\n",
              "      filter: drop-shadow(0px 1px 2px rgba(0, 0, 0, 0.3));\n",
              "      fill: #FFFFFF;\n",
              "    }\n",
              "  </style>\n",
              "\n",
              "      <script>\n",
              "        const buttonEl =\n",
              "          document.querySelector('#df-36878724-686f-4bb1-8194-87c4473081ce button.colab-df-convert');\n",
              "        buttonEl.style.display =\n",
              "          google.colab.kernel.accessAllowed ? 'block' : 'none';\n",
              "\n",
              "        async function convertToInteractive(key) {\n",
              "          const element = document.querySelector('#df-36878724-686f-4bb1-8194-87c4473081ce');\n",
              "          const dataTable =\n",
              "            await google.colab.kernel.invokeFunction('convertToInteractive',\n",
              "                                                     [key], {});\n",
              "          if (!dataTable) return;\n",
              "\n",
              "          const docLinkHtml = 'Like what you see? Visit the ' +\n",
              "            '<a target=\"_blank\" href=https://colab.research.google.com/notebooks/data_table.ipynb>data table notebook</a>'\n",
              "            + ' to learn more about interactive tables.';\n",
              "          element.innerHTML = '';\n",
              "          dataTable['output_type'] = 'display_data';\n",
              "          await google.colab.output.renderOutput(dataTable, element);\n",
              "          const docLink = document.createElement('div');\n",
              "          docLink.innerHTML = docLinkHtml;\n",
              "          element.appendChild(docLink);\n",
              "        }\n",
              "      </script>\n",
              "    </div>\n",
              "  </div>\n",
              "  "
            ]
          },
          "metadata": {},
          "execution_count": 122
        }
      ],
      "source": [
        "data = pd.read_csv('K-Stat.csv')\n",
        "data.head()"
      ]
    },
    {
      "cell_type": "code",
      "execution_count": null,
      "metadata": {
        "colab": {
          "base_uri": "https://localhost:8080/",
          "height": 300
        },
        "id": "yuM2MdaQLIqN",
        "outputId": "405e3ab9-ea5d-4cc3-86d9-8bbaac1585d9"
      },
      "outputs": [
        {
          "output_type": "execute_result",
          "data": {
            "text/plain": [
              "     spec_cent  Spec_rolloff  Chroma_d      rmse       zcr      Pitch  \\\n",
              "0  2186.712460   4415.374959  0.351923  0.041191  0.108183  26.255297   \n",
              "1  1482.859986   2721.701598  0.300136  0.171379  0.069755  15.603372   \n",
              "2  2066.626278   4047.230022  0.348844  0.147516  0.099057  31.641932   \n",
              "3  2491.817423   5047.250730  0.347636  0.078662  0.117275  25.690022   \n",
              "4  1982.613202   3834.886811  0.358997  0.120765  0.098587  35.350578   \n",
              "\n",
              "      Tempo        Mean         Std      Variance  ...  delta2_mfcc12  \\\n",
              "0  0.208744  249.974396  269.009599  72366.164613  ...       0.000233   \n",
              "1  0.139794  288.041801  212.199902  45028.798593  ...       0.000296   \n",
              "2  0.150048  246.595777  252.235972  63622.985503  ...       0.000891   \n",
              "3  0.169977  249.721512  270.394273  73113.062819  ...       0.000047   \n",
              "4  0.165198  243.879264  252.813489  63914.660278  ...      -0.000456   \n",
              "\n",
              "   delta2_mfcc13  delta2_mfcc14  delta2_mfcc15  delta2_mfcc16  delta2_mfcc17  \\\n",
              "0       0.000665       0.000885      -0.000137       0.000068       0.000944   \n",
              "1      -0.000479       0.000128       0.000925       0.000077       0.000360   \n",
              "2      -0.001316       0.000256       0.000043      -0.000823      -0.000310   \n",
              "3       0.000215      -0.000204       0.000284      -0.000033      -0.000300   \n",
              "4       0.000650       0.000584      -0.000102       0.000116      -0.000046   \n",
              "\n",
              "   delta2_mfcc18  delta2_mfcc19  delta2_mfcc20  label  \n",
              "0       0.000328       0.000646      -0.000231   Hate  \n",
              "1       0.000892      -0.000058       0.000017   Hate  \n",
              "2      -0.000517       0.000617       0.000145   Hate  \n",
              "3       0.000139      -0.000078      -0.000443   Hate  \n",
              "4       0.000161       0.000056      -0.000076   Hate  \n",
              "\n",
              "[5 rows x 73 columns]"
            ],
            "text/html": [
              "\n",
              "  <div id=\"df-f0051a5d-5322-41b6-8f5f-ee23ace12e8b\">\n",
              "    <div class=\"colab-df-container\">\n",
              "      <div>\n",
              "<style scoped>\n",
              "    .dataframe tbody tr th:only-of-type {\n",
              "        vertical-align: middle;\n",
              "    }\n",
              "\n",
              "    .dataframe tbody tr th {\n",
              "        vertical-align: top;\n",
              "    }\n",
              "\n",
              "    .dataframe thead th {\n",
              "        text-align: right;\n",
              "    }\n",
              "</style>\n",
              "<table border=\"1\" class=\"dataframe\">\n",
              "  <thead>\n",
              "    <tr style=\"text-align: right;\">\n",
              "      <th></th>\n",
              "      <th>spec_cent</th>\n",
              "      <th>Spec_rolloff</th>\n",
              "      <th>Chroma_d</th>\n",
              "      <th>rmse</th>\n",
              "      <th>zcr</th>\n",
              "      <th>Pitch</th>\n",
              "      <th>Tempo</th>\n",
              "      <th>Mean</th>\n",
              "      <th>Std</th>\n",
              "      <th>Variance</th>\n",
              "      <th>...</th>\n",
              "      <th>delta2_mfcc12</th>\n",
              "      <th>delta2_mfcc13</th>\n",
              "      <th>delta2_mfcc14</th>\n",
              "      <th>delta2_mfcc15</th>\n",
              "      <th>delta2_mfcc16</th>\n",
              "      <th>delta2_mfcc17</th>\n",
              "      <th>delta2_mfcc18</th>\n",
              "      <th>delta2_mfcc19</th>\n",
              "      <th>delta2_mfcc20</th>\n",
              "      <th>label</th>\n",
              "    </tr>\n",
              "  </thead>\n",
              "  <tbody>\n",
              "    <tr>\n",
              "      <th>0</th>\n",
              "      <td>2186.712460</td>\n",
              "      <td>4415.374959</td>\n",
              "      <td>0.351923</td>\n",
              "      <td>0.041191</td>\n",
              "      <td>0.108183</td>\n",
              "      <td>26.255297</td>\n",
              "      <td>0.208744</td>\n",
              "      <td>249.974396</td>\n",
              "      <td>269.009599</td>\n",
              "      <td>72366.164613</td>\n",
              "      <td>...</td>\n",
              "      <td>0.000233</td>\n",
              "      <td>0.000665</td>\n",
              "      <td>0.000885</td>\n",
              "      <td>-0.000137</td>\n",
              "      <td>0.000068</td>\n",
              "      <td>0.000944</td>\n",
              "      <td>0.000328</td>\n",
              "      <td>0.000646</td>\n",
              "      <td>-0.000231</td>\n",
              "      <td>Hate</td>\n",
              "    </tr>\n",
              "    <tr>\n",
              "      <th>1</th>\n",
              "      <td>1482.859986</td>\n",
              "      <td>2721.701598</td>\n",
              "      <td>0.300136</td>\n",
              "      <td>0.171379</td>\n",
              "      <td>0.069755</td>\n",
              "      <td>15.603372</td>\n",
              "      <td>0.139794</td>\n",
              "      <td>288.041801</td>\n",
              "      <td>212.199902</td>\n",
              "      <td>45028.798593</td>\n",
              "      <td>...</td>\n",
              "      <td>0.000296</td>\n",
              "      <td>-0.000479</td>\n",
              "      <td>0.000128</td>\n",
              "      <td>0.000925</td>\n",
              "      <td>0.000077</td>\n",
              "      <td>0.000360</td>\n",
              "      <td>0.000892</td>\n",
              "      <td>-0.000058</td>\n",
              "      <td>0.000017</td>\n",
              "      <td>Hate</td>\n",
              "    </tr>\n",
              "    <tr>\n",
              "      <th>2</th>\n",
              "      <td>2066.626278</td>\n",
              "      <td>4047.230022</td>\n",
              "      <td>0.348844</td>\n",
              "      <td>0.147516</td>\n",
              "      <td>0.099057</td>\n",
              "      <td>31.641932</td>\n",
              "      <td>0.150048</td>\n",
              "      <td>246.595777</td>\n",
              "      <td>252.235972</td>\n",
              "      <td>63622.985503</td>\n",
              "      <td>...</td>\n",
              "      <td>0.000891</td>\n",
              "      <td>-0.001316</td>\n",
              "      <td>0.000256</td>\n",
              "      <td>0.000043</td>\n",
              "      <td>-0.000823</td>\n",
              "      <td>-0.000310</td>\n",
              "      <td>-0.000517</td>\n",
              "      <td>0.000617</td>\n",
              "      <td>0.000145</td>\n",
              "      <td>Hate</td>\n",
              "    </tr>\n",
              "    <tr>\n",
              "      <th>3</th>\n",
              "      <td>2491.817423</td>\n",
              "      <td>5047.250730</td>\n",
              "      <td>0.347636</td>\n",
              "      <td>0.078662</td>\n",
              "      <td>0.117275</td>\n",
              "      <td>25.690022</td>\n",
              "      <td>0.169977</td>\n",
              "      <td>249.721512</td>\n",
              "      <td>270.394273</td>\n",
              "      <td>73113.062819</td>\n",
              "      <td>...</td>\n",
              "      <td>0.000047</td>\n",
              "      <td>0.000215</td>\n",
              "      <td>-0.000204</td>\n",
              "      <td>0.000284</td>\n",
              "      <td>-0.000033</td>\n",
              "      <td>-0.000300</td>\n",
              "      <td>0.000139</td>\n",
              "      <td>-0.000078</td>\n",
              "      <td>-0.000443</td>\n",
              "      <td>Hate</td>\n",
              "    </tr>\n",
              "    <tr>\n",
              "      <th>4</th>\n",
              "      <td>1982.613202</td>\n",
              "      <td>3834.886811</td>\n",
              "      <td>0.358997</td>\n",
              "      <td>0.120765</td>\n",
              "      <td>0.098587</td>\n",
              "      <td>35.350578</td>\n",
              "      <td>0.165198</td>\n",
              "      <td>243.879264</td>\n",
              "      <td>252.813489</td>\n",
              "      <td>63914.660278</td>\n",
              "      <td>...</td>\n",
              "      <td>-0.000456</td>\n",
              "      <td>0.000650</td>\n",
              "      <td>0.000584</td>\n",
              "      <td>-0.000102</td>\n",
              "      <td>0.000116</td>\n",
              "      <td>-0.000046</td>\n",
              "      <td>0.000161</td>\n",
              "      <td>0.000056</td>\n",
              "      <td>-0.000076</td>\n",
              "      <td>Hate</td>\n",
              "    </tr>\n",
              "  </tbody>\n",
              "</table>\n",
              "<p>5 rows × 73 columns</p>\n",
              "</div>\n",
              "      <button class=\"colab-df-convert\" onclick=\"convertToInteractive('df-f0051a5d-5322-41b6-8f5f-ee23ace12e8b')\"\n",
              "              title=\"Convert this dataframe to an interactive table.\"\n",
              "              style=\"display:none;\">\n",
              "        \n",
              "  <svg xmlns=\"http://www.w3.org/2000/svg\" height=\"24px\"viewBox=\"0 0 24 24\"\n",
              "       width=\"24px\">\n",
              "    <path d=\"M0 0h24v24H0V0z\" fill=\"none\"/>\n",
              "    <path d=\"M18.56 5.44l.94 2.06.94-2.06 2.06-.94-2.06-.94-.94-2.06-.94 2.06-2.06.94zm-11 1L8.5 8.5l.94-2.06 2.06-.94-2.06-.94L8.5 2.5l-.94 2.06-2.06.94zm10 10l.94 2.06.94-2.06 2.06-.94-2.06-.94-.94-2.06-.94 2.06-2.06.94z\"/><path d=\"M17.41 7.96l-1.37-1.37c-.4-.4-.92-.59-1.43-.59-.52 0-1.04.2-1.43.59L10.3 9.45l-7.72 7.72c-.78.78-.78 2.05 0 2.83L4 21.41c.39.39.9.59 1.41.59.51 0 1.02-.2 1.41-.59l7.78-7.78 2.81-2.81c.8-.78.8-2.07 0-2.86zM5.41 20L4 18.59l7.72-7.72 1.47 1.35L5.41 20z\"/>\n",
              "  </svg>\n",
              "      </button>\n",
              "      \n",
              "  <style>\n",
              "    .colab-df-container {\n",
              "      display:flex;\n",
              "      flex-wrap:wrap;\n",
              "      gap: 12px;\n",
              "    }\n",
              "\n",
              "    .colab-df-convert {\n",
              "      background-color: #E8F0FE;\n",
              "      border: none;\n",
              "      border-radius: 50%;\n",
              "      cursor: pointer;\n",
              "      display: none;\n",
              "      fill: #1967D2;\n",
              "      height: 32px;\n",
              "      padding: 0 0 0 0;\n",
              "      width: 32px;\n",
              "    }\n",
              "\n",
              "    .colab-df-convert:hover {\n",
              "      background-color: #E2EBFA;\n",
              "      box-shadow: 0px 1px 2px rgba(60, 64, 67, 0.3), 0px 1px 3px 1px rgba(60, 64, 67, 0.15);\n",
              "      fill: #174EA6;\n",
              "    }\n",
              "\n",
              "    [theme=dark] .colab-df-convert {\n",
              "      background-color: #3B4455;\n",
              "      fill: #D2E3FC;\n",
              "    }\n",
              "\n",
              "    [theme=dark] .colab-df-convert:hover {\n",
              "      background-color: #434B5C;\n",
              "      box-shadow: 0px 1px 3px 1px rgba(0, 0, 0, 0.15);\n",
              "      filter: drop-shadow(0px 1px 2px rgba(0, 0, 0, 0.3));\n",
              "      fill: #FFFFFF;\n",
              "    }\n",
              "  </style>\n",
              "\n",
              "      <script>\n",
              "        const buttonEl =\n",
              "          document.querySelector('#df-f0051a5d-5322-41b6-8f5f-ee23ace12e8b button.colab-df-convert');\n",
              "        buttonEl.style.display =\n",
              "          google.colab.kernel.accessAllowed ? 'block' : 'none';\n",
              "\n",
              "        async function convertToInteractive(key) {\n",
              "          const element = document.querySelector('#df-f0051a5d-5322-41b6-8f5f-ee23ace12e8b');\n",
              "          const dataTable =\n",
              "            await google.colab.kernel.invokeFunction('convertToInteractive',\n",
              "                                                     [key], {});\n",
              "          if (!dataTable) return;\n",
              "\n",
              "          const docLinkHtml = 'Like what you see? Visit the ' +\n",
              "            '<a target=\"_blank\" href=https://colab.research.google.com/notebooks/data_table.ipynb>data table notebook</a>'\n",
              "            + ' to learn more about interactive tables.';\n",
              "          element.innerHTML = '';\n",
              "          dataTable['output_type'] = 'display_data';\n",
              "          await google.colab.output.renderOutput(dataTable, element);\n",
              "          const docLink = document.createElement('div');\n",
              "          docLink.innerHTML = docLinkHtml;\n",
              "          element.appendChild(docLink);\n",
              "        }\n",
              "      </script>\n",
              "    </div>\n",
              "  </div>\n",
              "  "
            ]
          },
          "metadata": {},
          "execution_count": 123
        }
      ],
      "source": [
        "data = data.drop(['filename'], axis=1)\n",
        "data.head()"
      ]
    },
    {
      "cell_type": "code",
      "execution_count": null,
      "metadata": {
        "colab": {
          "base_uri": "https://localhost:8080/"
        },
        "id": "eIrmbpwHI4nB",
        "outputId": "2cf69935-8740-4a88-b12e-c0f14a93dcc3"
      },
      "outputs": [
        {
          "output_type": "execute_result",
          "data": {
            "text/plain": [
              "Normal    40\n",
              "Hate      33\n",
              "Name: label, dtype: int64"
            ]
          },
          "metadata": {},
          "execution_count": 124
        }
      ],
      "source": [
        "### Check whether the dataset is imbalanced\n",
        "\n",
        "data['label'].value_counts()"
      ]
    },
    {
      "cell_type": "code",
      "execution_count": null,
      "metadata": {
        "colab": {
          "base_uri": "https://localhost:8080/"
        },
        "id": "-F4y56vyI6dH",
        "outputId": "88f49f85-2417-4ba2-d01d-9626cde0c97d"
      },
      "outputs": [
        {
          "output_type": "stream",
          "name": "stdout",
          "text": [
            "[0 0 0 0 0 0 0 0 0 0 0 0 0 0 0 0 0 0 0 0 0 0 0 0 0 0 0 0 0 0 0 0 0 1 1 1 1\n",
            " 1 1 1 1 1 1 1 1 1 1 1 1 1 1 1 1 1 1 1 1 1 1 1 1 1 1 1 1 1 1 1 1 1 1 1 1]\n"
          ]
        }
      ],
      "source": [
        "genre_list = data.iloc[:, -1]\n",
        "encoder = LabelEncoder()\n",
        "y = encoder.fit_transform(genre_list)\n",
        "print(y)"
      ]
    },
    {
      "cell_type": "code",
      "execution_count": null,
      "metadata": {
        "id": "oRNX66BihMbQ"
      },
      "outputs": [],
      "source": [
        "scaler = StandardScaler()\n",
        "X =  scaler.fit_transform(np.array(data.iloc[:, :-1], dtype = float))"
      ]
    },
    {
      "cell_type": "code",
      "execution_count": null,
      "metadata": {
        "id": "wl-Wm4_ro3BC"
      },
      "outputs": [],
      "source": [
        "# split the dataset \n",
        "from sklearn.model_selection import train_test_split \n",
        "\n",
        "X_train, X_test, y_train, y_test = train_test_split(X, y, test_size=0.2, random_state = rng)"
      ]
    },
    {
      "cell_type": "code",
      "execution_count": null,
      "metadata": {
        "id": "ajD5XPDfhoP3"
      },
      "outputs": [],
      "source": [
        "data2 = pd.read_csv('data2.csv')\n",
        "data2.head()"
      ]
    },
    {
      "cell_type": "code",
      "execution_count": null,
      "metadata": {
        "id": "bqDPrUIwhsCp"
      },
      "outputs": [],
      "source": [
        "data2 = data2.drop(['filename'],axis=1)\n",
        "data2.head()"
      ]
    },
    {
      "cell_type": "code",
      "execution_count": null,
      "metadata": {
        "id": "xkdb0T3oh2i7"
      },
      "outputs": [],
      "source": [
        "genre_list = data2.iloc[:, -1]\n",
        "encoder = LabelEncoder()\n",
        "y_unseen = encoder.fit_transform(genre_list)\n",
        "print(y_unseen)"
      ]
    },
    {
      "cell_type": "code",
      "execution_count": null,
      "metadata": {
        "id": "7Md2qxJGh54k"
      },
      "outputs": [],
      "source": [
        "scaler = StandardScaler()\n",
        "X_unseen = scaler.fit_transform(np.array(data2.iloc[:, :-1], dtype = float))\n",
        "print(X_unseen)\n",
        "print(X_unseen.shape)"
      ]
    },
    {
      "cell_type": "code",
      "execution_count": null,
      "metadata": {
        "id": "Qo-77qdjJDGu"
      },
      "outputs": [],
      "source": [
        "# split the dataset \n",
        "from sklearn.model_selection import train_test_split \n",
        "\n",
        "X_train, X_test, y_train, y_test = train_test_split(X, y, test_size=0.2, random_state = rng)"
      ]
    },
    {
      "cell_type": "code",
      "execution_count": null,
      "metadata": {
        "colab": {
          "base_uri": "https://localhost:8080/"
        },
        "id": "oQ5FUqtVKtaY",
        "outputId": "006829c0-2438-4e92-cc40-b180777c01fe"
      },
      "outputs": [
        {
          "name": "stdout",
          "output_type": "stream",
          "text": [
            "Stored 'X_train' (ndarray)\n",
            "Stored 'X_test' (ndarray)\n",
            "Stored 'y_train' (ndarray)\n",
            "Stored 'y_test' (ndarray)\n",
            "Stored 'y' (ndarray)\n"
          ]
        }
      ],
      "source": [
        "### store the preprocessed data for use in the next notebook\n",
        "\n",
        "%store X_train \n",
        "%store X_test \n",
        "%store y_train \n",
        "%store y_test \n",
        "%store y\n",
        "#%store le"
      ]
    },
    {
      "cell_type": "markdown",
      "metadata": {
        "id": "PukUBM7ZJtTH"
      },
      "source": [
        "#Machine learning models"
      ]
    },
    {
      "cell_type": "code",
      "source": [
        "# Function to plot the confusion matrix \n",
        "from sklearn import metrics\n",
        "import itertools\n",
        "\n",
        "def plot_confusion_matrix(cm, classes,\n",
        "                          normalize=False,\n",
        "                          title='Confusion matrix',\n",
        "                          cmap=plt.cm.Blues):\n",
        "    \n",
        "    plt.imshow(cm, interpolation='nearest', cmap=cmap)\n",
        "    plt.title(title)\n",
        "    plt.colorbar()\n",
        "    tick_marks = np.arange(len(classes))\n",
        "    plt.xticks(tick_marks, classes, rotation=45)\n",
        "    plt.yticks(tick_marks, classes)\n",
        "\n",
        "    if normalize:\n",
        "        cm = cm.astype('float') / cm.sum(axis=1)[:, np.newaxis]\n",
        "        print(\"Normalized confusion matrix\")\n",
        "    else:\n",
        "        print('Confusion matrix, without normalization')\n",
        "\n",
        "    thresh = cm.max() / 2.\n",
        "    for i, j in itertools.product(range(cm.shape[0]), range(cm.shape[1])):\n",
        "        plt.text(j, i, cm[i, j],\n",
        "                 horizontalalignment=\"center\",\n",
        "                 color=\"white\" if cm[i, j] > thresh else \"black\")\n",
        "\n",
        "    plt.tight_layout()\n",
        "    plt.ylabel('True label')\n",
        "    plt.xlabel('Predicted label')"
      ],
      "metadata": {
        "id": "oq0VRGtnQQB4"
      },
      "execution_count": null,
      "outputs": []
    },
    {
      "cell_type": "markdown",
      "source": [
        "##1). Support Vector Machine Model"
      ],
      "metadata": {
        "id": "Gl4hcz7hWlLN"
      }
    },
    {
      "cell_type": "code",
      "source": [
        "from sklearn.svm import SVC\n",
        "\n",
        "accuracy_scores = []\n",
        "auc_scores = []\n",
        "\n",
        "sv = svm.SVC(probability = True, kernel='rbf')\n",
        "cv = KFold(n_splits=5, shuffle = True)\n",
        "for train_index, test_index in cv.split(X):\n",
        "    print(\"Train Index: \", train_index, \"\\n\")\n",
        "    print(\"Test Index: \", test_index)\n",
        "\n",
        "    X_train, X_test, y_train, y_test = X[train_index], X[test_index], y[train_index], y[test_index]\n",
        "    sv.fit(X_train, y_train)\n",
        "    accuracy_scores.append(sv.score(X_test, y_test))\n",
        "    probs = sv.predict(X_test)  # model prediction process over test set\n",
        "    # print(probs.shape)\n",
        "    # probs = probs[:, 0]\n",
        "    try:\n",
        "        auc = roc_auc_score(y_test, probs)\n",
        "        auc_scores.append(auc)\n",
        "    except ValueError:\n",
        "        pass\n"
      ],
      "metadata": {
        "colab": {
          "base_uri": "https://localhost:8080/"
        },
        "id": "Nlblzd4eWubv",
        "outputId": "298eb2f2-77b4-4f34-def4-5a0b0b511966"
      },
      "execution_count": null,
      "outputs": [
        {
          "output_type": "stream",
          "name": "stdout",
          "text": [
            "Train Index:  [ 0  1  2  3  5  6  7  8  9 12 13 14 15 17 18 19 21 22 23 24 25 26 27 28\n",
            " 29 30 31 32 33 35 37 38 39 40 41 42 44 45 46 47 50 51 52 53 54 55 56 57\n",
            " 58 60 61 62 64 66 67 69 70 72] \n",
            "\n",
            "Test Index:  [ 4 10 11 16 20 34 36 43 48 49 59 63 65 68 71]\n",
            "Train Index:  [ 1  2  3  4  6  7  9 10 11 12 13 15 16 17 18 19 20 22 24 25 26 28 29 32\n",
            " 33 34 35 36 37 38 40 42 43 45 46 47 48 49 51 52 53 54 56 57 58 59 60 61\n",
            " 63 64 65 66 67 68 69 70 71 72] \n",
            "\n",
            "Test Index:  [ 0  5  8 14 21 23 27 30 31 39 41 44 50 55 62]\n",
            "Train Index:  [ 0  1  2  3  4  5  6  7  8 10 11 13 14 15 16 17 18 19 20 21 22 23 25 26\n",
            " 27 30 31 32 34 35 36 37 38 39 40 41 42 43 44 45 47 48 49 50 54 55 56 59\n",
            " 61 62 63 64 65 66 68 69 70 71] \n",
            "\n",
            "Test Index:  [ 9 12 24 28 29 33 46 51 52 53 57 58 60 67 72]\n",
            "Train Index:  [ 0  1  4  5  6  7  8  9 10 11 12 13 14 16 17 18 19 20 21 23 24 25 26 27\n",
            " 28 29 30 31 33 34 35 36 37 39 41 43 44 46 48 49 50 51 52 53 55 56 57 58\n",
            " 59 60 62 63 64 65 66 67 68 71 72] \n",
            "\n",
            "Test Index:  [ 2  3 15 22 32 38 40 42 45 47 54 61 69 70]\n",
            "Train Index:  [ 0  2  3  4  5  8  9 10 11 12 14 15 16 20 21 22 23 24 27 28 29 30 31 32\n",
            " 33 34 36 38 39 40 41 42 43 44 45 46 47 48 49 50 51 52 53 54 55 57 58 59\n",
            " 60 61 62 63 65 67 68 69 70 71 72] \n",
            "\n",
            "Test Index:  [ 1  6  7 13 17 18 19 25 26 35 37 56 64 66]\n"
          ]
        }
      ]
    },
    {
      "cell_type": "code",
      "source": [
        "print(np.mean(accuracy_scores))\n",
        "print(np.mean(auc_scores))"
      ],
      "metadata": {
        "colab": {
          "base_uri": "https://localhost:8080/"
        },
        "id": "xSznRNcEYTlD",
        "outputId": "f1e50611-7d60-4d15-a0cf-16163f4065ae"
      },
      "execution_count": null,
      "outputs": [
        {
          "output_type": "stream",
          "name": "stdout",
          "text": [
            "0.8209523809523809\n",
            "0.8588888888888888\n"
          ]
        }
      ]
    },
    {
      "cell_type": "code",
      "source": [
        "cm = metrics.confusion_matrix(y_test, probs)\n",
        "plot_confusion_matrix(cm, classes=['Hate', 'Normal'])"
      ],
      "metadata": {
        "colab": {
          "base_uri": "https://localhost:8080/",
          "height": 328
        },
        "id": "mrKZPF7qQ1l0",
        "outputId": "fb4d9192-b287-46c4-af6b-a62977a257b0"
      },
      "execution_count": null,
      "outputs": [
        {
          "output_type": "stream",
          "name": "stdout",
          "text": [
            "Confusion matrix, without normalization\n"
          ]
        },
        {
          "output_type": "display_data",
          "data": {
            "text/plain": [
              "<Figure size 432x288 with 2 Axes>"
            ],
            "image/png": "[encoded data removed]"
          },
          "metadata": {
            "needs_background": "light"
          }
        }
      ]
    },
    {
      "cell_type": "code",
      "source": [
        "svm_disp = RocCurveDisplay.from_estimator(sv, X_test, y_test)\n",
        "plt.show()\n"
      ],
      "metadata": {
        "colab": {
          "base_uri": "https://localhost:8080/",
          "height": 278
        },
        "id": "ua6o5W9rk_Is",
        "outputId": "d7ed7bae-ade2-4d6b-e410-0500ae1cdedc"
      },
      "execution_count": null,
      "outputs": [
        {
          "output_type": "display_data",
          "data": {
            "text/plain": [
              "<Figure size 432x288 with 1 Axes>"
            ],
            "image/png": "[encoded data removed]"
          },
          "metadata": {
            "needs_background": "light"
          }
        }
      ]
    },
    {
      "cell_type": "markdown",
      "source": [
        "##2). Random Forest Model"
      ],
      "metadata": {
        "id": "Qv0VQwhRZhMQ"
      }
    },
    {
      "cell_type": "code",
      "source": [
        "from sklearn.ensemble import RandomForestClassifier\n",
        "\n",
        "accuracy_scores = []\n",
        "auc_scores = []\n",
        "\n",
        "rf = RandomForestClassifier(n_jobs = 2)\n",
        "#rf = RandomForestClassifier(n_jobs = 2, n_estimators = 1000, criterion ='entropy', warm_start = True, max_features = 'sqrt', oob_score = 'True',) #max_depth=5, n_estimators=10, max_features=1)\n",
        "cv = KFold(n_splits=5 , random_state = rng, shuffle = True)\n",
        "for train_index, test_index in cv.split(X):\n",
        "    print(\"Train Index: \", train_index, \"\\n\")\n",
        "    print(\"Test Index: \", test_index)\n",
        "\n",
        "    X_train, X_test, y_train, y_test = X[train_index], X[test_index], y[train_index], y[test_index]\n",
        "    rf.fit(X_train, y_train)      #Train the model\n",
        "    accuracy_scores.append(rf.score(X_test, y_test))   #Make predictions\n",
        "    probs = rf.predict(X_test)  # model prediction process over test set\n",
        "\n",
        "    #print(probs.shape)\n",
        "    # probs = probs[:, 0]\n",
        "    \n",
        "    try:\n",
        "        auc = roc_auc_score(y_test, probs)\n",
        "        auc_scores.append(auc)\n",
        "    except ValueError:\n",
        "        pass"
      ],
      "metadata": {
        "colab": {
          "base_uri": "https://localhost:8080/"
        },
        "id": "K9SH8161ZkKn",
        "outputId": "06a6a613-3bf9-44ac-989c-f9b6ebbf49f9"
      },
      "execution_count": null,
      "outputs": [
        {
          "output_type": "stream",
          "name": "stdout",
          "text": [
            "Train Index:  [ 0  1  4  5  6  7  8  9 11 12 13 14 15 17 18 19 21 22 23 25 27 28 29 30\n",
            " 31 32 34 35 36 37 38 39 40 41 42 43 45 46 48 49 50 52 53 54 55 56 57 58\n",
            " 60 61 63 64 65 66 67 69 71 72] \n",
            "\n",
            "Test Index:  [ 2  3 10 16 20 24 26 33 44 47 51 59 62 68 70]\n",
            "Train Index:  [ 1  2  3  4  5  6  7  8  9 10 11 14 15 16 17 20 21 22 23 24 25 26 27 28\n",
            " 29 31 32 33 34 36 39 40 41 42 44 45 46 47 49 50 51 52 54 56 58 59 60 61\n",
            " 62 63 64 65 66 67 68 70 71 72] \n",
            "\n",
            "Test Index:  [ 0 12 13 18 19 30 35 37 38 43 48 53 55 57 69]\n",
            "Train Index:  [ 0  1  2  3  7 10 12 13 14 15 16 17 18 19 20 24 25 26 27 28 30 31 32 33\n",
            " 34 35 37 38 39 40 41 43 44 45 46 47 48 50 51 52 53 54 55 56 57 59 61 62\n",
            " 63 64 65 66 67 68 69 70 71 72] \n",
            "\n",
            "Test Index:  [ 4  5  6  8  9 11 21 22 23 29 36 42 49 58 60]\n",
            "Train Index:  [ 0  2  3  4  5  6  8  9 10 11 12 13 14 15 16 18 19 20 21 22 23 24 26 27\n",
            " 29 30 31 33 34 35 36 37 38 41 42 43 44 45 47 48 49 51 52 53 54 55 57 58\n",
            " 59 60 62 63 64 66 68 69 70 71 72] \n",
            "\n",
            "Test Index:  [ 1  7 17 25 28 32 39 40 46 50 56 61 65 67]\n",
            "Train Index:  [ 0  1  2  3  4  5  6  7  8  9 10 11 12 13 16 17 18 19 20 21 22 23 24 25\n",
            " 26 28 29 30 32 33 35 36 37 38 39 40 42 43 44 46 47 48 49 50 51 53 55 56\n",
            " 57 58 59 60 61 62 65 67 68 69 70] \n",
            "\n",
            "Test Index:  [14 15 27 31 34 41 45 52 54 63 64 66 71 72]\n"
          ]
        }
      ]
    },
    {
      "cell_type": "code",
      "source": [
        "print(np.mean(accuracy_scores))\n",
        "print(np.mean(auc_scores))"
      ],
      "metadata": {
        "colab": {
          "base_uri": "https://localhost:8080/"
        },
        "id": "Mww7M4Rxbn2G",
        "outputId": "774bb292-e0d9-4c25-be77-bbd066162aa5"
      },
      "execution_count": null,
      "outputs": [
        {
          "output_type": "stream",
          "name": "stdout",
          "text": [
            "0.9019047619047619\n",
            "0.8991666666666667\n"
          ]
        }
      ]
    },
    {
      "cell_type": "code",
      "source": [
        "rf_disp = RocCurveDisplay.from_estimator(rf, X_test, y_test)\n",
        "plt.show()"
      ],
      "metadata": {
        "colab": {
          "base_uri": "https://localhost:8080/",
          "height": 278
        },
        "id": "t3EWqTWfmnmr",
        "outputId": "55a34640-90c2-4ed3-b054-4e0952a4e3be"
      },
      "execution_count": null,
      "outputs": [
        {
          "output_type": "display_data",
          "data": {
            "text/plain": [
              "<Figure size 432x288 with 1 Axes>"
            ],
            "image/png": "[encoded data removed]"
          },
          "metadata": {
            "needs_background": "light"
          }
        }
      ]
    },
    {
      "cell_type": "code",
      "source": [
        "cm = metrics.confusion_matrix(y_test, probs)\n",
        "plot_confusion_matrix(cm, classes=['Hate', 'Normal'])"
      ],
      "metadata": {
        "id": "SEh1IRb1vGT6",
        "colab": {
          "base_uri": "https://localhost:8080/",
          "height": 328
        },
        "outputId": "b150a207-be2f-4675-a08d-b5ec7ddc318e"
      },
      "execution_count": null,
      "outputs": [
        {
          "output_type": "stream",
          "name": "stdout",
          "text": [
            "Confusion matrix, without normalization\n"
          ]
        },
        {
          "output_type": "display_data",
          "data": {
            "text/plain": [
              "<Figure size 432x288 with 2 Axes>"
            ],
            "image/png": "[encoded data removed]"
          },
          "metadata": {
            "needs_background": "light"
          }
        }
      ]
    },
    {
      "cell_type": "markdown",
      "source": [
        "##3). Extreme Gradient Boosting"
      ],
      "metadata": {
        "id": "g9mycD-Qb9yS"
      }
    },
    {
      "cell_type": "code",
      "source": [
        "from xgboost import XGBClassifier\n",
        "\n",
        "accuracy_scores = []\n",
        "auc_scores = []\n",
        "\n",
        "gb = XGBClassifier()\n",
        "cv = KFold(n_splits=5 , random_state = rng, shuffle = True)\n",
        "for train_index, test_index in cv.split(X):\n",
        "    print(\"Train Index: \", train_index, \"\\n\")\n",
        "    print(\"Test Index: \", test_index)\n",
        "\n",
        "    X_train, X_test, y_train, y_test = X[train_index], X[test_index], y[train_index], y[test_index]\n",
        "    gb.fit(X_train, y_train)      #Train the model\n",
        "    accuracy_scores.append(gb.score(X_test, y_test))   #Make predictions\n",
        "    probs = gb.predict(X_test)  # model prediction process over test set\n",
        "\n",
        "    #print(probs.shape)\n",
        "    # probs = probs[:, 0]\n",
        "    \n",
        "    try:\n",
        "        auc = roc_auc_score(y_test, probs)\n",
        "        auc_scores.append(auc)\n",
        "    except ValueError:\n",
        "        pass\n",
        "\n",
        "#checkpointer = ModelCheckpoint(filepath='saved_models/svm.hdf5', verbose=1, save_best_only=True)"
      ],
      "metadata": {
        "colab": {
          "base_uri": "https://localhost:8080/"
        },
        "id": "h1-tJLLOcCip",
        "outputId": "691b07ca-6e8e-4110-f32e-4265c82ec648"
      },
      "execution_count": null,
      "outputs": [
        {
          "output_type": "stream",
          "name": "stdout",
          "text": [
            "Train Index:  [ 0  1  2  3  4  5  6  7  9 10 12 14 15 16 17 18 19 21 22 23 24 25 27 28\n",
            " 29 30 31 32 35 36 37 38 39 41 42 45 46 47 49 50 51 52 53 54 55 56 58 59\n",
            " 60 62 64 65 66 67 68 70 71 72] \n",
            "\n",
            "Test Index:  [ 8 11 13 20 26 33 34 40 43 44 48 57 61 63 69]\n",
            "Train Index:  [ 1  2  3  4  5  7  8  9 10 11 13 14 16 17 18 19 20 21 22 25 26 27 29 30\n",
            " 31 32 33 34 37 39 40 41 42 43 44 45 46 47 48 49 50 51 53 54 56 57 58 59\n",
            " 60 61 62 63 64 65 68 69 71 72] \n",
            "\n",
            "Test Index:  [ 0  6 12 15 23 24 28 35 36 38 52 55 66 67 70]\n",
            "Train Index:  [ 0  1  2  5  6  7  8  9 11 12 13 14 15 19 20 21 23 24 25 26 27 28 29 31\n",
            " 32 33 34 35 36 37 38 40 42 43 44 45 48 49 50 51 52 54 55 56 57 58 60 61\n",
            " 62 63 65 66 67 68 69 70 71 72] \n",
            "\n",
            "Test Index:  [ 3  4 10 16 17 18 22 30 39 41 46 47 53 59 64]\n",
            "Train Index:  [ 0  3  4  5  6  7  8  9 10 11 12 13 15 16 17 18 19 20 22 23 24 26 28 30\n",
            " 32 33 34 35 36 37 38 39 40 41 42 43 44 46 47 48 49 51 52 53 55 56 57 58\n",
            " 59 61 62 63 64 66 67 69 70 71 72] \n",
            "\n",
            "Test Index:  [ 1  2 14 21 25 27 29 31 45 50 54 60 65 68]\n",
            "Train Index:  [ 0  1  2  3  4  6  8 10 11 12 13 14 15 16 17 18 20 21 22 23 24 25 26 27\n",
            " 28 29 30 31 33 34 35 36 38 39 40 41 43 44 45 46 47 48 50 52 53 54 55 57\n",
            " 59 60 61 63 64 65 66 67 68 69 70] \n",
            "\n",
            "Test Index:  [ 5  7  9 19 32 37 42 49 51 56 58 62 71 72]\n"
          ]
        }
      ]
    },
    {
      "cell_type": "code",
      "source": [
        "print(np.mean(accuracy_scores))\n",
        "print(np.mean(auc_scores))"
      ],
      "metadata": {
        "colab": {
          "base_uri": "https://localhost:8080/"
        },
        "id": "4ZG06qYYc-M-",
        "outputId": "a3918ace-0f00-458e-a1df-481c1c2768d9"
      },
      "execution_count": null,
      "outputs": [
        {
          "output_type": "stream",
          "name": "stdout",
          "text": [
            "0.8876190476190476\n",
            "0.8918253968253967\n"
          ]
        }
      ]
    },
    {
      "cell_type": "code",
      "source": [
        "gb_disp = RocCurveDisplay.from_estimator(gb, X_test, y_test)\n",
        "plt.show()"
      ],
      "metadata": {
        "colab": {
          "base_uri": "https://localhost:8080/",
          "height": 278
        },
        "id": "l9nT-AR9nRlj",
        "outputId": "39ff7e14-a481-4666-86c2-236a58c68934"
      },
      "execution_count": null,
      "outputs": [
        {
          "output_type": "display_data",
          "data": {
            "text/plain": [
              "<Figure size 432x288 with 1 Axes>"
            ],
            "image/png": "[encoded data removed]"
          },
          "metadata": {
            "needs_background": "light"
          }
        }
      ]
    },
    {
      "cell_type": "code",
      "source": [
        "cm = metrics.confusion_matrix(y_test, probs)\n",
        "plot_confusion_matrix(cm, classes=['Hate', 'Normal'])"
      ],
      "metadata": {
        "colab": {
          "base_uri": "https://localhost:8080/",
          "height": 328
        },
        "id": "DWghJxhOcSyC",
        "outputId": "bc0d3ee9-8bcb-4f6b-b095-af40ed1bbea8"
      },
      "execution_count": null,
      "outputs": [
        {
          "output_type": "stream",
          "name": "stdout",
          "text": [
            "Confusion matrix, without normalization\n"
          ]
        },
        {
          "output_type": "display_data",
          "data": {
            "text/plain": [
              "<Figure size 432x288 with 2 Axes>"
            ],
            "image/png": "[encoded data removed]"
          },
          "metadata": {
            "needs_background": "light"
          }
        }
      ]
    },
    {
      "cell_type": "markdown",
      "metadata": {
        "id": "DC_PKsnh2ApS"
      },
      "source": [
        "##4). Multi-Layer Perceptron Model (MLP)"
      ]
    },
    {
      "cell_type": "code",
      "source": [
        "from sklearn.neural_network import MLPClassifier\n",
        "from sklearn.model_selection import GridSearchCV\n",
        "from sklearn import metrics \n",
        "\n",
        "# Initialize the Multi Layer Perceptron Classifier\n",
        "\n",
        "Model = MLPClassifier(activation = \"relu\", solver = \"adam\", hidden_layer_sizes=(512,256,128,32), random_state=rng, verbose=1, max_iter = 35, tol = 0.0001)"
      ],
      "metadata": {
        "id": "CXaYGgXfoyFg"
      },
      "execution_count": null,
      "outputs": []
    },
    {
      "cell_type": "code",
      "source": [
        "Model.fit(X_train,y_train)"
      ],
      "metadata": {
        "colab": {
          "base_uri": "https://localhost:8080/"
        },
        "id": "B_jgGvwLvyiP",
        "outputId": "fa0ea3fe-13ae-46e7-f8b1-a790e12bead1"
      },
      "execution_count": null,
      "outputs": [
        {
          "output_type": "stream",
          "name": "stdout",
          "text": [
            "Iteration 1, loss = 0.73099348\n",
            "Iteration 2, loss = 0.57362502\n",
            "Iteration 3, loss = 0.47012133\n",
            "Iteration 4, loss = 0.37636602\n",
            "Iteration 5, loss = 0.29120007\n",
            "Iteration 6, loss = 0.21685604\n",
            "Iteration 7, loss = 0.15407011\n",
            "Iteration 8, loss = 0.10423848\n",
            "Iteration 9, loss = 0.06761447\n",
            "Iteration 10, loss = 0.04260284\n",
            "Iteration 11, loss = 0.02644614\n",
            "Iteration 12, loss = 0.01617832\n",
            "Iteration 13, loss = 0.00985463\n",
            "Iteration 14, loss = 0.00604359\n",
            "Iteration 15, loss = 0.00380735\n",
            "Iteration 16, loss = 0.00251734\n",
            "Iteration 17, loss = 0.00176556\n",
            "Iteration 18, loss = 0.00132593\n",
            "Iteration 19, loss = 0.00106777\n",
            "Iteration 20, loss = 0.00090920\n",
            "Iteration 21, loss = 0.00081350\n",
            "Iteration 22, loss = 0.00075230\n",
            "Iteration 23, loss = 0.00071227\n",
            "Iteration 24, loss = 0.00068560\n",
            "Iteration 25, loss = 0.00066735\n",
            "Iteration 26, loss = 0.00065468\n",
            "Iteration 27, loss = 0.00064573\n",
            "Iteration 28, loss = 0.00063934\n",
            "Iteration 29, loss = 0.00063468\n",
            "Iteration 30, loss = 0.00063122\n",
            "Iteration 31, loss = 0.00062862\n",
            "Training loss did not improve more than tol=0.000100 for 10 consecutive epochs. Stopping.\n"
          ]
        },
        {
          "output_type": "execute_result",
          "data": {
            "text/plain": [
              "MLPClassifier(hidden_layer_sizes=(512, 256, 128, 32), max_iter=35,\n",
              "              random_state=RandomState(MT19937) at 0x7F6E5E6EF8D0, verbose=1)"
            ]
          },
          "metadata": {},
          "execution_count": 129
        }
      ]
    },
    {
      "cell_type": "code",
      "source": [
        "# Predict for the test set\n",
        "y_pred = Model.predict(X_test)\n",
        "\n",
        "# Calculate the accuracy of our model\n",
        "accuracy=accuracy_score(y_test, y_pred)\n",
        "auc = roc_auc_score(y_test, y_pred)\n",
        "\n",
        "# Print the accuracy and AUC\n",
        "print(\"Accuracy: {:.2f}%\".format(accuracy*100))\n",
        "print(\"Auc: {:.2f}%\".format(auc*100))"
      ],
      "metadata": {
        "colab": {
          "base_uri": "https://localhost:8080/"
        },
        "id": "88a-Gx-KGaAc",
        "outputId": "384e3739-e79d-4db2-e012-7008919449f8"
      },
      "execution_count": null,
      "outputs": [
        {
          "output_type": "stream",
          "name": "stdout",
          "text": [
            "Accuracy: 86.67%\n",
            "Auc: 85.71%\n"
          ]
        }
      ]
    },
    {
      "cell_type": "code",
      "source": [
        "Model_disp = RocCurveDisplay.from_estimator(Model, X_test, y_test)\n",
        "plt.show()"
      ],
      "metadata": {
        "colab": {
          "base_uri": "https://localhost:8080/",
          "height": 278
        },
        "id": "px0St6yNZh2g",
        "outputId": "d2535428-e798-486a-d56f-3c20d9f85a3e"
      },
      "execution_count": null,
      "outputs": [
        {
          "output_type": "display_data",
          "data": {
            "text/plain": [
              "<Figure size 432x288 with 1 Axes>"
            ],
            "image/png": "[encoded data removed]"
          },
          "metadata": {
            "needs_background": "light"
          }
        }
      ]
    },
    {
      "cell_type": "code",
      "source": [
        "cm = metrics.confusion_matrix(y_test, y_pred)\n",
        "plot_confusion_matrix(cm, classes=['Hate', 'Normal'])"
      ],
      "metadata": {
        "colab": {
          "base_uri": "https://localhost:8080/",
          "height": 328
        },
        "id": "-tuztv_bZnKS",
        "outputId": "9a8bb5ce-a89d-4e3f-fcf4-b1ffb946fb1b"
      },
      "execution_count": null,
      "outputs": [
        {
          "output_type": "stream",
          "name": "stdout",
          "text": [
            "Confusion matrix, without normalization\n"
          ]
        },
        {
          "output_type": "display_data",
          "data": {
            "text/plain": [
              "<Figure size 432x288 with 2 Axes>"
            ],
            "image/png": "[encoded data removed]"
          },
          "metadata": {
            "needs_background": "light"
          }
        }
      ]
    },
    {
      "cell_type": "markdown",
      "source": [
        "Comparing the classifiers AUC values"
      ],
      "metadata": {
        "id": "JpdFDzfI77Do"
      }
    },
    {
      "cell_type": "code",
      "source": [
        "ax = plt.gca()\n",
        "Model_disp = RocCurveDisplay.from_estimator(Model, X_test, y_test, ax=ax, alpha=0.8)\n",
        "svm_disp.plot(ax=ax, alpha=0.8)\n",
        "rf_disp.plot(ax=ax, alpha=0.8)\n",
        "gb_disp.plot(ax=ax, alpha=0.8)\n",
        "plt.show()"
      ],
      "metadata": {
        "id": "61uhR_jr74Yy",
        "colab": {
          "base_uri": "https://localhost:8080/",
          "height": 278
        },
        "outputId": "c13e09a1-806d-4d50-b024-1e8507d522e6"
      },
      "execution_count": null,
      "outputs": [
        {
          "output_type": "display_data",
          "data": {
            "text/plain": [
              "<Figure size 432x288 with 1 Axes>"
            ],
            "image/png": "[encoded data removed]"
          },
          "metadata": {
            "needs_background": "light"
          }
        }
      ]
    }
  ],
  "metadata": {
    "colab": {
      "collapsed_sections": [
        "KTwAcXpmgXEF",
        "hotIC_DbfOac",
        "8KLajrI9oKJn",
        "bZ4SXOGWIZG7",
        "TwRIing5hpPZ",
        "bto78-AvDM06",
        "B3w-9RVh1Fme"
      ],
      "provenance": []
    },
    "kernelspec": {
      "display_name": "Python 3",
      "name": "python3"
    },
    "language_info": {
      "name": "python"
    }
  },
  "nbformat": 4,
  "nbformat_minor": 0
}